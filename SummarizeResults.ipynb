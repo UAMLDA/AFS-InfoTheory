{
 "cells": [
  {
   "cell_type": "markdown",
   "metadata": {},
   "source": [
    "# Plot / Table Generator "
   ]
  },
  {
   "cell_type": "code",
   "execution_count": null,
   "metadata": {},
   "outputs": [],
   "source": [
    "import numpy as np \n",
    "import pandas as pd \n",
    "import matplotlib.pylab as plt\n",
    "\n",
    "# setup plotting\n",
    "plt.style.use('ggplot')"
   ]
  },
  {
   "cell_type": "code",
   "execution_count": null,
   "metadata": {},
   "outputs": [],
   "source": [
    "# -----------------------------------------------------------------------\n",
    "# # setup program constants \n",
    "# percentage of poisoning levels  \n",
    "POI_RNG = [.01, .025, .05, .075, .1, .125, .15, .175, .2]\n",
    "# total number of poisoning levels \n",
    "NPR = len(POI_RNG)\n",
    "# percentage of features that we want to select \n",
    "SEL_PERCENT = .1\n",
    "# number of algorithms that we are going to test [JMI, MIM, MRMR, MIFS]\n",
    "NALG = 4\n",
    "# used when we select features \n",
    "FEAT_IDX = 0\n",
    "# number of cross validation runs to perform\n",
    "CV = 5\n",
    "# dataset names \n",
    "# did not run \n",
    "#   - bank, miniboone, ozone, spambase, connect-4, oocytes_merluccius_nucleus_4d\n",
    "DATA = [\n",
    "        'conn-bench-sonar-mines-rocks',\n",
    "        'ionosphere',\n",
    "        'bank',\n",
    "        'oocytes_trisopterus_nucleus_2f', \n",
    "        'statlog-german-credit', \n",
    "        'molec-biol-promoter', \n",
    "        'ozone', \n",
    "        'spambase',\n",
    "        'parkinsons', \n",
    "        'oocytes_merluccius_nucleus_4d',\n",
    "        'musk-1', \n",
    "        'musk-2', \n",
    "        'chess-krvkp', \n",
    "        'twonorm'\n",
    "        ]\n",
    "ALGS = ['MIM', 'MIFS', 'MRMR', 'JMI']\n",
    "# -----------------------------------------------------------------------\n",
    "\n",
    "clrs = ['g', 'k', 'b', 'r']\n",
    "mkrs = ['*', 's', 'o', '^']"
   ]
  },
  {
   "cell_type": "code",
   "execution_count": null,
   "metadata": {},
   "outputs": [],
   "source": [
    "\n",
    "for l in range(len(DATA)): \n",
    "    for i in range(len(BOX)): \n",
    "        d = np.load('results/' + DATA[l] + '_[xiao][' + BOX[i] + ']_results.npz')\n",
    "        err_jaccard, err_kuncheva = d['err_jaccard'], d['err_kuncheva']\n",
    "    \n",
    "        plt.figure()\n",
    "        for j in range(err_jaccard.shape[1]): \n",
    "            plt.plot(POI_RNG, err_jaccard[:,j], marker=mkrs[j], label=ALGS[j], markersize=10)\n",
    "        plt.legend()\n",
    "        plt.xlabel('Poison Ratio')\n",
    "        plt.ylabel('Jaccard Error')\n",
    "        plt.title('Jaccard [box=' + BOX[i] + ']')\n",
    "        plt.savefig('plots/' + DATA[l] + '_jaccard.pdf')\n",
    "        \n",
    "        \n",
    "        plt.figure()\n",
    "        for j in range(err_kuncheva.shape[1]): \n",
    "            plt.plot(POI_RNG, err_kuncheva[:,j],marker=mkrs[j], label=ALGS[j], markersize=10)\n",
    "        plt.legend()\n",
    "        plt.xlabel('Poison Ratio')\n",
    "        plt.ylabel('Kuncheva Error')\n",
    "        plt.title('Kuncheva [box=' + BOX[i] + ']')\n",
    "        plt.savefig('plots/' + DATA[l] + '_kuncheva.pdf')\n",
    "    "
   ]
  },
  {
   "cell_type": "code",
   "execution_count": null,
   "metadata": {},
   "outputs": [],
   "source": []
  },
  {
   "cell_type": "code",
   "execution_count": null,
   "metadata": {},
   "outputs": [],
   "source": []
  },
  {
   "cell_type": "code",
   "execution_count": null,
   "metadata": {},
   "outputs": [],
   "source": []
  }
 ],
 "metadata": {
  "kernelspec": {
   "display_name": "Python 3",
   "language": "python",
   "name": "python3"
  },
  "language_info": {
   "codemirror_mode": {
    "name": "ipython",
    "version": 3
   },
   "file_extension": ".py",
   "mimetype": "text/x-python",
   "name": "python",
   "nbconvert_exporter": "python",
   "pygments_lexer": "ipython3",
   "version": "3.7.9"
  }
 },
 "nbformat": 4,
 "nbformat_minor": 4
}
